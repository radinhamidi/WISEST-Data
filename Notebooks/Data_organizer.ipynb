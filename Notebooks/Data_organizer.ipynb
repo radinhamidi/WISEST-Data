{
 "cells": [
  {
   "cell_type": "code",
   "execution_count": null,
   "metadata": {},
   "outputs": [],
   "source": [
    "index_json = {'train': [], 'test':[]}\n",
    "\n",
    "# get file names of train directory\n",
    "import os\n",
    "train_dir = '../Data/train'\n",
    "for root, dirs, files in os.walk(train_dir):\n",
    "    for file in files:\n",
    "        if file.endswith('_retriever.json'):\n",
    "            index_json['train'].append(int(file.split('_')[0]))\n",
    "\n",
    "# get file names of test directory\n",
    "test_dir = '../Data/test'\n",
    "for root, dirs, files in os.walk(test_dir):\n",
    "    for file in files:\n",
    "        if file.endswith('_retriever.json'):\n",
    "            index_json['test'].append(int(file.split('_')[0]))\n",
    "\n",
    "\n",
    "# store the index json as a json file with indentations\n",
    "import json\n",
    "with open('../Data/output/index.json', 'w') as f:\n",
    "    json.dump(index_json, f, indent=4)\n"
   ]
  },
  {
   "cell_type": "code",
   "execution_count": null,
   "metadata": {},
   "outputs": [],
   "source": [
    "import os\n",
    "import json\n",
    "\n",
    "dict = {}\n",
    "\n",
    "test_dir = '../Data/test'\n",
    "\n",
    "for file in os.listdir(test_dir):\n",
    "    \n",
    "    if not file.endswith('retriever.json'):\n",
    "        # get the file name without extension\n",
    "        file_name = os.path.splitext(os.path.basename(file))[0]\n",
    "        # get the id\n",
    "        id_file = int(file_name.split('_')[0])\n",
    "        # get the passage file\n",
    "        passage_file = os.path.join(test_dir, file_name + '.json')\n",
    "        # get the retriever file\n",
    "        retriever_file = os.path.join(test_dir, file_name + '_retriever.json')\n",
    "        # open the passage file\n",
    "        with open(passage_file) as f:\n",
    "            passage = json.load(f)\n",
    "\n",
    "        # open the retriever file\n",
    "        with open(retriever_file) as f:\n",
    "            retriever = json.load(f)\n",
    "        \n",
    "        for item in retriever:\n",
    "            # delete the negative_ctxts key\n",
    "            del item['negative_ctxs']\n",
    "        \n",
    "        dict[id_file] = {'passage': passage, 'qa': retriever} \n",
    "\n"
   ]
  },
  {
   "cell_type": "code",
   "execution_count": null,
   "metadata": {},
   "outputs": [],
   "source": [
    "train_dir = '../Data/train'\n",
    "\n",
    "for file in os.listdir(train_dir):\n",
    "        \n",
    "        if not file.endswith('retriever.json'):\n",
    "            # get the file name without extension\n",
    "            file_name = os.path.splitext(os.path.basename(file))[0]\n",
    "            # get the id\n",
    "            id_file = int(file_name.split('_')[0])\n",
    "            # get the passage file\n",
    "            passage_file = os.path.join(train_dir, file_name + '.json')\n",
    "            # get the retriever file\n",
    "            retriever_file = os.path.join(train_dir, file_name + '_retriever.json')\n",
    "            # open the passage file\n",
    "            with open(passage_file) as f:\n",
    "                passage = json.load(f)\n",
    "    \n",
    "            # open the retriever file\n",
    "            with open(retriever_file) as f:\n",
    "                retriever = json.load(f)\n",
    "            \n",
    "            for item in retriever:\n",
    "                # delete the negative_ctxts key\n",
    "                del item['negative_ctxs']\n",
    "                \n",
    "            dict[id_file] = {'passage': passage, 'qa': retriever}\n"
   ]
  },
  {
   "cell_type": "code",
   "execution_count": null,
   "metadata": {},
   "outputs": [],
   "source": [
    "# store the dict as a json file with indentations\n",
    "with open('../Data/output/QA_data.json', 'w') as f:\n",
    "    json.dump(dict, f, indent=4)"
   ]
  }
 ],
 "metadata": {
  "kernelspec": {
   "display_name": "base",
   "language": "python",
   "name": "python3"
  },
  "language_info": {
   "codemirror_mode": {
    "name": "ipython",
    "version": 3
   },
   "file_extension": ".py",
   "mimetype": "text/x-python",
   "name": "python",
   "nbconvert_exporter": "python",
   "pygments_lexer": "ipython3",
   "version": "3.11.5"
  }
 },
 "nbformat": 4,
 "nbformat_minor": 2
}
