{
 "cells": [
  {
   "cell_type": "code",
   "execution_count": null,
   "metadata": {},
   "outputs": [],
   "source": [
    "import json\n",
    "\n",
    "with open('../Data/passages/5621_passage.json', 'r') as json_file:\n",
    "    passage_data = json.load(json_file)"
   ]
  },
  {
   "cell_type": "code",
   "execution_count": null,
   "metadata": {},
   "outputs": [],
   "source": [
    "from sentence_transformers.cross_encoder import CrossEncoder\n",
    "import numpy as np\n",
    "model = CrossEncoder(\"../Models/DPR/Distilbert-base-uncased\")\n",
    "\n",
    "query = \"Did the review adhere to pre-defined objectives and eligibility criteria?\"\n",
    "\n",
    "pairs = []\n",
    "for data in passage_data:\n",
    "    pairs.append([query, data['contents']])\n",
    "\n",
    "scores = model.predict(pairs)\n",
    "scores = np.array(scores)\n",
    "print(scores)\n",
    "sorted_indices = np.argsort(scores)[::-1]\n",
    "best_passage_index = sorted_indices[0]\n",
    "print(passage_data[best_passage_index]['contents'])"
   ]
  },
  {
   "cell_type": "code",
   "execution_count": null,
   "metadata": {},
   "outputs": [],
   "source": [
    "from dpr import get_robis_pairs, get_amstar_pairs\n",
    "\n",
    "robis_pairs = get_robis_pairs(passage_data)\n",
    "amstar_pairs = get_amstar_pairs(passage_data)"
   ]
  },
  {
   "cell_type": "code",
   "execution_count": null,
   "metadata": {},
   "outputs": [],
   "source": [
    "question_id = robis_pairs[0]['question ID']\n",
    "robis_ID_lst = ['1.1', '1.2', '1.3', '1.4', '1.5', '2.1', '2.2', '2.3', '2.4', '2.5',\n",
    "                      '3.1', '3.2', '3.3', '3.4', '3.5', '4.1', '4.2', '4.3', '4.4', '4.5', '4.6',\n",
    "                      'A', 'B', 'C']\n",
    "\n",
    "robis_query_lst = [\"Did the review adhere to pre-defined objectives and eligibility criteria?\", \n",
    "            \"Were the eligibility crieria appropriate for the review question?\", \n",
    "            \"Were eligibility criteria unambiguous?\", \n",
    "            \"Were all restrictions in eligibility crieria based on study characteristics appropriate (e.g. date, sample size, study quality, outcomes measured)? If yes, indicate which study characteristic was an inclusion/exclusion criteria\", \n",
    "            \"Were any restrictions in eligibility criteria based on sources of info appropriate (e.g. publication status or format, language, availability of data)?\", \n",
    "            \"Did the search include an appropriate range of databases/ electronic sources for published and unpublished reports?\", \n",
    "            \"Were methods additional to database searching used to identify relevant reports?\", \n",
    "            \"Were the terms and structure of the search strategy likely to retrieve as many eligible studies as possible?\", \n",
    "            \"Were search strategy restrictions based on date, publication format, or language appropriate?\", \n",
    "            \"Were efforts made to minimise error in selection of studies?\", \n",
    "            \"Were efforts made to minimise error in data collection?\", \n",
    "            \"Were sufficient study characteristics considered for both review authors and readers to be able to interpret the results?\", \n",
    "            \"Were all relevant study results collected for use in the synthesis?\", \n",
    "            \"Was risk of bias (or methodological quality) formally assessed using appropriate criteria?\", \n",
    "            \"Were efforts made to minimise error in risk of bias assessment?\", \n",
    "            \"Did the synthesis include all studies that it should?\", \n",
    "            \"Were all pre-defined analyses reported or departures explained?\",\n",
    "            \"Was the synthesis appropriate given the nature and similarity in the research questions, study designs and outcomes across included studies?\",\n",
    "            \"Was between-study variation (heterogeneity) minimal or addressed in the synthesis?\", \n",
    "            \"Were the findings robust, e.g. as demonstrated through funnel plot or sensitivity analyses?\", \n",
    "            \"Were biases in primary studies minimal or addressed in the synthesis?\", \n",
    "            \"Did the interpretation of findings address all of the concerns identified in Domains 1 to 4?\", \n",
    "            \"Was the relevance of identified studies to the review's research question appropriately considered?\", \n",
    "            \"Did the reviewers avoid emphasizing results on the basis of their statistical significance?\"]\n",
    "\n",
    "question_index = robis_ID_lst.index(question_id)\n",
    "query = robis_query_lst[question_index]\n",
    "context = robis_pairs[0]['context']\n"
   ]
  },
  {
   "cell_type": "code",
   "execution_count": null,
   "metadata": {},
   "outputs": [],
   "source": [
    "from litellm import completion\n",
    "\n",
    "response = completion(\n",
    "    model=\"ollama/phi3\", \n",
    "    messages=[{\"content\": \"I am going to provide a question and a context. Answer the question based on the context given.\",\"role\": \"user\"},\n",
    "              {\"content\": \"Yes. Please provide the question.\",\"role\": \"assistant\"},\n",
    "              {\"content\": query + \" Please answer the question by choosing 'Yes' or 'No'. Then provide a quote that supports your answer.\",\"role\": \"user\"},\n",
    "              {\"content\": \"Yes. Please provide the context.\",\"role\": \"assistant\"},\n",
    "              {\"content\": context,\"role\": \"user\"}], \n",
    "    api_base=\"your API address here\"\n",
    ")\n",
    "print(response)\n"
   ]
  },
  {
   "cell_type": "code",
   "execution_count": null,
   "metadata": {},
   "outputs": [],
   "source": [
    "import instructor\n",
    "from litellm import completion\n",
    "from pydantic import BaseModel\n",
    "\n",
    "\n",
    "class Answer(BaseModel):\n",
    "    answer_class: str\n",
    "    quote: str\n",
    "\n",
    "\n",
    "client = instructor.from_litellm(completion)\n",
    "\n",
    "resp = client.chat.completions.create(\n",
    "    model=\"ollama/phi3\",\n",
    "    max_tokens=1024,\n",
    "    messages=[{\"content\": \"I am going to provide a question and a context. Answer the question based on the context given.\",\"role\": \"user\"},\n",
    "              {\"content\": \"Yes. Please provide the question.\",\"role\": \"assistant\"},\n",
    "              {\"content\": query + \" Please answer the question by choosing 'Yes' or 'No'. Then provide a quote that supports your answer.\",\"role\": \"user\"},\n",
    "              {\"content\": \"Yes. Please provide the context.\",\"role\": \"assistant\"},\n",
    "              {\"content\": context,\"role\": \"user\"}],\n",
    "    api_base=\"your API address here\",\n",
    "    response_model=Answer,\n",
    ")"
   ]
  },
  {
   "cell_type": "code",
   "execution_count": null,
   "metadata": {},
   "outputs": [],
   "source": [
    "print(resp.answer_class)\n",
    "print(resp.quote)"
   ]
  },
  {
   "cell_type": "code",
   "execution_count": null,
   "metadata": {},
   "outputs": [],
   "source": [
    "answer_class_lst = []\n",
    "quote_lst = []\n",
    "answer_class_lst.append(resp.answer_class)\n",
    "quote_lst.append(resp.quote)\n",
    "print(answer_class_lst)\n",
    "print(quote_lst)"
   ]
  },
  {
   "cell_type": "code",
   "execution_count": null,
   "metadata": {},
   "outputs": [],
   "source": [
    "def get_answer(messages, generation_args, pipe):\n",
    "    output = pipe(messages, **generation_args)\n",
    "    answer = output[0]['generated_text'].split(\"answer:\")[1].split(\"quote:\")[0].strip()[:-1]\n",
    "    quote = output[0]['generated_text'].split(\"quote:\")[1].strip()\n",
    "    return answer, quote"
   ]
  },
  {
   "cell_type": "code",
   "execution_count": null,
   "metadata": {},
   "outputs": [],
   "source": [
    "import torch\n",
    "from transformers import AutoModelForCausalLM, AutoTokenizer, pipeline\n",
    "\n",
    "torch.random.manual_seed(0)\n",
    "\n",
    "model = AutoModelForCausalLM.from_pretrained(\n",
    "    \"microsoft/Phi-3-mini-4k-instruct\", \n",
    "    device_map=\"cuda\", \n",
    "    torch_dtype=\"auto\", \n",
    "    trust_remote_code=True, \n",
    ")\n",
    "tokenizer = AutoTokenizer.from_pretrained(\"microsoft/Phi-3-mini-4k-instruct\")\n",
    "\n",
    "pipe = pipeline(\n",
    "    \"text-generation\",\n",
    "    model=model,\n",
    "    tokenizer=tokenizer,\n",
    ")\n",
    "\n",
    "generation_args = {\n",
    "    \"max_new_tokens\": 500,\n",
    "    \"return_full_text\": False,\n",
    "    \"temperature\": 0.0,\n",
    "    \"do_sample\": False,\n",
    "}\n"
   ]
  },
  {
   "cell_type": "code",
   "execution_count": null,
   "metadata": {},
   "outputs": [],
   "source": [
    "retriever_data[23]"
   ]
  },
  {
   "cell_type": "code",
   "execution_count": null,
   "metadata": {},
   "outputs": [],
   "source": [
    "robis_question_lst = ['1.1', '1.2', '1.3', '1.4', '1.5', '2.1', '2.2', '2.3', '2.4', '2.5',\n",
    "                      '3.1', '3.2', '3.3', '3.4', '3.5', '4.1', '4.2', '4.3', '4.4', '4.5', '4.6',\n",
    "                      'A', 'B', 'C']\n",
    "\n",
    "amstar_question_lst = ['2', '1', '3', '4', '5', '6', '7', '8', '9', '11', '14', '15', '12', '10', '16', '13']"
   ]
  },
  {
   "cell_type": "code",
   "execution_count": null,
   "metadata": {},
   "outputs": [],
   "source": [
    "result = []\n",
    "i = 0\n",
    "while i < len(retriever_data):\n",
    "    item = retriever_data[i]\n",
    "    \n",
    "    if i < 24:\n",
    "        question_type = 'ROBIS'\n",
    "        question_id = robis_question_lst[i]\n",
    "    else:\n",
    "        question_type = \"AMSTAR-2\"\n",
    "        question_id = amstar_question_lst[i-24]\n",
    "    \n",
    "    question = item['question']\n",
    "    if item['positive_ctxs'] == []:\n",
    "        answer = \"No Information\"\n",
    "        quote = \"No Information\"\n",
    "    else:\n",
    "        passage = passage_data[item['positive_ctxs'][0]]['contents']\n",
    "        messages = [\n",
    "            {\"role\": \"user\", \"content\": \"Based on the paragraph, answer a question. The paragraph is: \" + passage},\n",
    "            {\"role\": \"user\", \"content\": \"The question is: \" + question + \"Only answer between 'Yes' and 'No'. Then, give me a quote from the paragraph that supports the answer without explanation. Answer in the format of 'answer:'', quote: ''. Do not include explanations other than the answer and quote.\"}\n",
    "        ]\n",
    "        answer, quote = get_answer(messages, generation_args, pipe)\n",
    "    dict = {\"question_id\": question_id, \"context\": passage}\n",
    "    result.append()\n"
   ]
  }
 ],
 "metadata": {
  "kernelspec": {
   "display_name": "base",
   "language": "python",
   "name": "python3"
  },
  "language_info": {
   "codemirror_mode": {
    "name": "ipython",
    "version": 3
   },
   "file_extension": ".py",
   "mimetype": "text/x-python",
   "name": "python",
   "nbconvert_exporter": "python",
   "pygments_lexer": "ipython3",
   "version": "3.11.5"
  }
 },
 "nbformat": 4,
 "nbformat_minor": 2
}
